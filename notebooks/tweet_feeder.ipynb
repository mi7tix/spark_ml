{
 "cells": [
  {
   "cell_type": "code",
   "execution_count": 2,
   "metadata": {},
   "outputs": [
    {
     "name": "stdout",
     "output_type": "stream",
     "text": [
      "Current spark version is 2.4.4\n"
     ]
    }
   ],
   "source": [
    "println(s\"Current spark version is ${spark.version}\")"
   ]
  },
  {
   "cell_type": "code",
   "execution_count": 9,
   "metadata": {},
   "outputs": [
    {
     "name": "stdout",
     "output_type": "stream",
     "text": [
      "Total tweets in file: 1600000\n"
     ]
    },
    {
     "data": {
      "text/plain": [
       "dataSchema = StructType(StructField(target,IntegerType,true), StructField(id,LongType,true), StructField(raw_timestamp,StringType,true), StructField(query_status,StringType,true), StructField(author,StringType,true), StructField(tweet,StringType,true))\n",
       "dataPath = /home/jovyan/data/training.1600000.processed.noemoticon.csv\n",
       "raw_sentiment = [tweet: string]\n"
      ]
     },
     "metadata": {},
     "output_type": "display_data"
    },
    {
     "data": {
      "text/plain": [
       "[tweet: string]"
      ]
     },
     "execution_count": 9,
     "metadata": {},
     "output_type": "execute_result"
    }
   ],
   "source": [
    "import org.apache.spark.sql.types.{StructType, StructField, IntegerType, LongType, StringType}\n",
    "\n",
    "val dataSchema = new StructType()\n",
    "    .add(\"target\", IntegerType)\n",
    "    .add(\"id\", LongType)\n",
    "    .add(\"raw_timestamp\", StringType)\n",
    "    .add(\"query_status\", StringType)\n",
    "    .add(\"author\", StringType)\n",
    "    .add(\"tweet\", StringType)\n",
    "\n",
    "    \n",
    "val dataPath= \"/home/jovyan/data/training.1600000.processed.noemoticon.csv\"\n",
    "\n",
    "val raw_sentiment = spark.read\n",
    "    .format(\"csv\")\n",
    "    .option(\"header\",false)\n",
    "    .schema(dataSchema)\n",
    "    .load(dataPath)\n",
    "    .selectExpr(\"tweet\")\n",
    "\n",
    "println(s\"Total tweets in file: ${raw_sentiment.count}\")\n"
   ]
  },
  {
   "cell_type": "code",
   "execution_count": 10,
   "metadata": {},
   "outputs": [
    {
     "name": "stdout",
     "output_type": "stream",
     "text": [
      "Streaming started!\n"
     ]
    },
    {
     "data": {
      "text/plain": [
       "timer = java.util.Timer@1327c1fb\n",
       "task = $anon$1@766e9312\n"
      ]
     },
     "metadata": {},
     "output_type": "display_data"
    },
    {
     "data": {
      "text/plain": [
       "$anon$1@766e9312"
      ]
     },
     "execution_count": 10,
     "metadata": {},
     "output_type": "execute_result"
    },
    {
     "name": "stdout",
     "output_type": "stream",
     "text": [
      "2020-01-27T13:39:38.520Z - saved some data to the events stream!\n",
      "2020-01-27T13:39:42.541Z - saved some data to the events stream!\n",
      "2020-01-27T13:39:46.560Z - saved some data to the events stream!\n",
      "2020-01-27T13:39:50.742Z - saved some data to the events stream!\n",
      "2020-01-27T13:39:54.918Z - saved some data to the events stream!\n",
      "2020-01-27T13:39:59.466Z - saved some data to the events stream!\n",
      "2020-01-27T13:40:04.039Z - saved some data to the events stream!\n",
      "2020-01-27T13:40:08.386Z - saved some data to the events stream!\n",
      "2020-01-27T13:40:12.765Z - saved some data to the events stream!\n",
      "2020-01-27T13:40:17.038Z - saved some data to the events stream!\n",
      "2020-01-27T13:40:21.356Z - saved some data to the events stream!\n",
      "2020-01-27T13:40:25.953Z - saved some data to the events stream!\n",
      "2020-01-27T13:40:30.298Z - saved some data to the events stream!\n",
      "2020-01-27T13:40:34.697Z - saved some data to the events stream!\n",
      "2020-01-27T13:40:39.052Z - saved some data to the events stream!\n",
      "2020-01-27T13:40:43.580Z - saved some data to the events stream!\n",
      "2020-01-27T13:40:48.120Z - saved some data to the events stream!\n",
      "2020-01-27T13:40:52.635Z - saved some data to the events stream!\n",
      "2020-01-27T13:40:57.191Z - saved some data to the events stream!\n",
      "2020-01-27T13:41:01.632Z - saved some data to the events stream!\n",
      "2020-01-27T13:41:05.905Z - saved some data to the events stream!\n",
      "2020-01-27T13:41:10.096Z - saved some data to the events stream!\n",
      "2020-01-27T13:41:14.625Z - saved some data to the events stream!\n",
      "2020-01-27T13:41:18.998Z - saved some data to the events stream!\n",
      "2020-01-27T13:41:23.285Z - saved some data to the events stream!\n",
      "2020-01-27T13:41:27.485Z - saved some data to the events stream!\n",
      "2020-01-27T13:41:31.879Z - saved some data to the events stream!\n",
      "2020-01-27T13:41:36.170Z - saved some data to the events stream!\n",
      "2020-01-27T13:41:40.489Z - saved some data to the events stream!\n",
      "2020-01-27T13:41:44.932Z - saved some data to the events stream!\n",
      "2020-01-27T13:41:49.254Z - saved some data to the events stream!\n",
      "2020-01-27T13:41:53.607Z - saved some data to the events stream!\n",
      "2020-01-27T13:41:57.852Z - saved some data to the events stream!\n",
      "2020-01-27T13:42:02.368Z - saved some data to the events stream!\n",
      "2020-01-27T13:42:06.699Z - saved some data to the events stream!\n",
      "2020-01-27T13:42:11.040Z - saved some data to the events stream!\n",
      "2020-01-27T13:42:15.389Z - saved some data to the events stream!\n",
      "2020-01-27T13:42:20.018Z - saved some data to the events stream!\n",
      "2020-01-27T13:42:24.466Z - saved some data to the events stream!\n",
      "2020-01-27T13:42:28.794Z - saved some data to the events stream!\n",
      "2020-01-27T13:42:33.179Z - saved some data to the events stream!\n",
      "2020-01-27T13:42:38.008Z - saved some data to the events stream!\n",
      "2020-01-27T13:42:42.554Z - saved some data to the events stream!\n",
      "2020-01-27T13:42:47.262Z - saved some data to the events stream!\n",
      "2020-01-27T13:42:51.853Z - saved some data to the events stream!\n",
      "2020-01-27T13:42:56.256Z - saved some data to the events stream!\n",
      "2020-01-27T13:43:00.565Z - saved some data to the events stream!\n",
      "2020-01-27T13:43:04.981Z - saved some data to the events stream!\n",
      "2020-01-27T13:43:09.343Z - saved some data to the events stream!\n",
      "2020-01-27T13:43:13.462Z - saved some data to the events stream!\n",
      "2020-01-27T13:43:17.790Z - saved some data to the events stream!\n",
      "2020-01-27T13:43:22.396Z - saved some data to the events stream!\n",
      "2020-01-27T13:43:26.931Z - saved some data to the events stream!\n",
      "2020-01-27T13:43:31.641Z - saved some data to the events stream!\n",
      "2020-01-27T13:43:36.672Z - saved some data to the events stream!\n",
      "2020-01-27T13:43:41.501Z - saved some data to the events stream!\n",
      "2020-01-27T13:43:46.009Z - saved some data to the events stream!\n",
      "2020-01-27T13:43:50.662Z - saved some data to the events stream!\n",
      "2020-01-27T13:43:55.103Z - saved some data to the events stream!\n",
      "2020-01-27T13:43:59.728Z - saved some data to the events stream!\n",
      "2020-01-27T13:44:04.158Z - saved some data to the events stream!\n",
      "2020-01-27T13:44:08.842Z - saved some data to the events stream!\n",
      "2020-01-27T13:44:13.254Z - saved some data to the events stream!\n",
      "2020-01-27T13:44:17.602Z - saved some data to the events stream!\n",
      "2020-01-27T13:44:21.985Z - saved some data to the events stream!\n",
      "2020-01-27T13:44:26.625Z - saved some data to the events stream!\n",
      "2020-01-27T13:44:31.325Z - saved some data to the events stream!\n",
      "2020-01-27T13:44:35.833Z - saved some data to the events stream!\n",
      "2020-01-27T13:44:40.238Z - saved some data to the events stream!\n",
      "2020-01-27T13:44:44.720Z - saved some data to the events stream!\n",
      "2020-01-27T13:44:49.468Z - saved some data to the events stream!\n",
      "2020-01-27T13:44:54.106Z - saved some data to the events stream!\n",
      "2020-01-27T13:44:58.702Z - saved some data to the events stream!\n",
      "2020-01-27T13:45:03.369Z - saved some data to the events stream!\n",
      "2020-01-27T13:45:07.731Z - saved some data to the events stream!\n",
      "2020-01-27T13:45:12.165Z - saved some data to the events stream!\n",
      "2020-01-27T13:45:16.576Z - saved some data to the events stream!\n",
      "2020-01-27T13:45:21.131Z - saved some data to the events stream!\n",
      "2020-01-27T13:45:25.571Z - saved some data to the events stream!\n",
      "2020-01-27T13:45:30.083Z - saved some data to the events stream!\n",
      "2020-01-27T13:45:34.392Z - saved some data to the events stream!\n",
      "2020-01-27T13:45:38.940Z - saved some data to the events stream!\n",
      "2020-01-27T13:45:43.421Z - saved some data to the events stream!\n",
      "2020-01-27T13:45:47.952Z - saved some data to the events stream!\n",
      "2020-01-27T13:45:52.286Z - saved some data to the events stream!\n",
      "2020-01-27T13:45:56.845Z - saved some data to the events stream!\n",
      "2020-01-27T13:46:01.144Z - saved some data to the events stream!\n",
      "2020-01-27T13:46:05.559Z - saved some data to the events stream!\n",
      "2020-01-27T13:46:10.098Z - saved some data to the events stream!\n",
      "2020-01-27T13:46:14.427Z - saved some data to the events stream!\n",
      "2020-01-27T13:46:19.281Z - saved some data to the events stream!\n",
      "2020-01-27T13:46:23.875Z - saved some data to the events stream!\n",
      "2020-01-27T13:46:28.299Z - saved some data to the events stream!\n",
      "2020-01-27T13:46:32.906Z - saved some data to the events stream!\n",
      "2020-01-27T13:46:40.243Z - saved some data to the events stream!\n",
      "2020-01-27T13:46:46.450Z - saved some data to the events stream!\n",
      "2020-01-27T13:46:51.758Z - saved some data to the events stream!\n",
      "2020-01-27T13:46:56.631Z - saved some data to the events stream!\n",
      "2020-01-27T13:47:01.661Z - saved some data to the events stream!\n",
      "2020-01-27T13:47:06.408Z - saved some data to the events stream!\n",
      "2020-01-27T13:47:11.476Z - saved some data to the events stream!\n",
      "2020-01-27T13:47:16.390Z - saved some data to the events stream!\n",
      "2020-01-27T13:47:22.424Z - saved some data to the events stream!\n",
      "2020-01-27T13:47:27.868Z - saved some data to the events stream!\n",
      "2020-01-27T13:47:33.046Z - saved some data to the events stream!\n",
      "2020-01-27T13:47:38.327Z - saved some data to the events stream!\n",
      "2020-01-27T13:47:43.825Z - saved some data to the events stream!\n",
      "2020-01-27T13:47:49.248Z - saved some data to the events stream!\n",
      "2020-01-27T13:47:54.711Z - saved some data to the events stream!\n",
      "2020-01-27T13:48:00.008Z - saved some data to the events stream!\n",
      "2020-01-27T13:48:04.977Z - saved some data to the events stream!\n",
      "2020-01-27T13:48:10.063Z - saved some data to the events stream!\n"
     ]
    }
   ],
   "source": [
    "import java.util.{Calendar, Timer, TimerTask}\n",
    "\n",
    "val timer = new Timer()\n",
    "\n",
    "val task = new TimerTask {\n",
    "  def run(): Unit = {\n",
    "      val data = raw_sentiment.sample(fraction=0.00001,withReplacement=true)\n",
    "      data.coalesce(1).write.format(\"json\").mode(\"append\").save(\"/home/jovyan/data/events-stream\")\n",
    "      println(s\"${Calendar.getInstance().toInstant} - saved some data to the events stream!\")\n",
    "  } \n",
    "}\n",
    "\n",
    "println(\"Streaming started!\")\n",
    "\n",
    "timer.schedule(task, 1000L, 1000L)"
   ]
  },
  {
   "cell_type": "code",
   "execution_count": 11,
   "metadata": {},
   "outputs": [
    {
     "data": {
      "text/plain": [
       "true"
      ]
     },
     "execution_count": 11,
     "metadata": {},
     "output_type": "execute_result"
    }
   ],
   "source": [
    "task.cancel()"
   ]
  },
  {
   "cell_type": "code",
   "execution_count": null,
   "metadata": {},
   "outputs": [],
   "source": []
  }
 ],
 "metadata": {
  "kernelspec": {
   "display_name": "Apache Toree - Scala",
   "language": "scala",
   "name": "apache_toree_scala"
  },
  "language_info": {
   "codemirror_mode": "text/x-scala",
   "file_extension": ".scala",
   "mimetype": "text/x-scala",
   "name": "scala",
   "pygments_lexer": "scala",
   "version": "2.11.12"
  }
 },
 "nbformat": 4,
 "nbformat_minor": 2
}
